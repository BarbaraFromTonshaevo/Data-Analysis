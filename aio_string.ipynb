{
 "cells": [
  {
   "cell_type": "code",
   "execution_count": 6,
   "metadata": {},
   "outputs": [],
   "source": [
    "import numpy as np\n",
    "import pandas as pd\n",
    "from random import choice\n",
    "from sklearn import preprocessing"
   ]
  },
  {
   "cell_type": "code",
   "execution_count": 9,
   "metadata": {},
   "outputs": [],
   "source": [
    "alphabet_sh = ['a','b','c','d']\n",
    "alphabet= [chr(i) for i in range(97,123)]"
   ]
  },
  {
   "cell_type": "code",
   "execution_count": 4,
   "metadata": {},
   "outputs": [],
   "source": [
    "def text_generator(alpha, n):\n",
    "    return (''.join([choice(alpha) for x in range(n)]))\n",
    "    "
   ]
  },
  {
   "cell_type": "code",
   "execution_count": 87,
   "metadata": {},
   "outputs": [],
   "source": [
    "pat = 'abc'"
   ]
  },
  {
   "cell_type": "code",
   "execution_count": 194,
   "metadata": {},
   "outputs": [],
   "source": [
    "def Naive(text, pattern, alphabet):\n",
    "    n = len(text)\n",
    "    m = len(pattern)\n",
    "    incl=[]\n",
    "    operations=0\n",
    "    for s in range(n-m+1):\n",
    "        i=0\n",
    "        while (i < m):\n",
    "            operations+=1\n",
    "            if (pattern[i]!=text[s+i]):\n",
    "                break\n",
    "            i+=1\n",
    "        if (i==m):\n",
    "            incl.append(s)   \n",
    "    return (incl,operations)\n",
    "    \n",
    "    "
   ]
  },
  {
   "cell_type": "code",
   "execution_count": 145,
   "metadata": {},
   "outputs": [
    {
     "data": {
      "text/plain": [
       "([0, 3], 8)"
      ]
     },
     "execution_count": 145,
     "metadata": {},
     "output_type": "execute_result"
    }
   ],
   "source": [
    "Naive(str,pat)"
   ]
  },
  {
   "cell_type": "code",
   "execution_count": 109,
   "metadata": {},
   "outputs": [
    {
     "data": {
      "text/plain": [
       "(14, 'aa')"
      ]
     },
     "execution_count": 109,
     "metadata": {},
     "output_type": "execute_result"
    }
   ],
   "source": [
    "len(str), pat"
   ]
  },
  {
   "cell_type": "code",
   "execution_count": 146,
   "metadata": {},
   "outputs": [],
   "source": [
    "str = text_generator(alphabet_sh,10000)"
   ]
  },
  {
   "cell_type": "code",
   "execution_count": 212,
   "metadata": {},
   "outputs": [],
   "source": [
    "str='aaaaaaaaaaaaaa'\n",
    "pat='aa'"
   ]
  },
  {
   "cell_type": "code",
   "execution_count": 5,
   "metadata": {},
   "outputs": [],
   "source": [
    "pat = 'abc'\n",
    "text = 'abcabc'"
   ]
  },
  {
   "cell_type": "code",
   "execution_count": 148,
   "metadata": {},
   "outputs": [],
   "source": [
    "from sklearn import preprocessing\n",
    "\n",
    "def RK(text, pattern,alphabet):\n",
    "    n = len(text)\n",
    "    m = len(pattern)\n",
    "    text = list(text)\n",
    "    pattern = list(pattern)\n",
    "    incl=[]\n",
    "    operations=0\n",
    "    d=len(alphabet)\n",
    "    p=0\n",
    "    t=0\n",
    "    q=1013\n",
    "    \n",
    "    #можно ли использовать эту функцию для перевода символов в числа?\n",
    "    le = preprocessing.LabelEncoder()\n",
    "    le.fit(alphabet)\n",
    "    text = le.transform(text)\n",
    "    pattern = le.transform(pattern)\n",
    "    \n",
    "    for i in range(m):\n",
    "        p = (d*p + pattern[i]) % q\n",
    "        t = (d*t + text[i]) % q\n",
    "    \n",
    "    for i in range(n-m+1):\n",
    "        operations+=1\n",
    "        if (p == t):\n",
    "            j=0\n",
    "            while (j < m):\n",
    "                operations+=1\n",
    "                if (pattern[j]!=text[i+j]):\n",
    "                    break\n",
    "                j+=1\n",
    "            if (j==m):\n",
    "                incl.append(i)\n",
    "        operations+=1\n",
    "        t = ((t - text[i] * (d**(m-1)))*d + text[(i+m)%n]) % q\n",
    "            \n",
    "    return incl,operations\n",
    "    "
   ]
  },
  {
   "cell_type": "code",
   "execution_count": 154,
   "metadata": {},
   "outputs": [],
   "source": [
    "r = RK(str, pat, alphabet_sh)[0]"
   ]
  },
  {
   "cell_type": "code",
   "execution_count": 155,
   "metadata": {},
   "outputs": [],
   "source": [
    "naive = Naive(str,pat)[0]"
   ]
  },
  {
   "cell_type": "code",
   "execution_count": 156,
   "metadata": {},
   "outputs": [
    {
     "data": {
      "text/plain": [
       "True"
      ]
     },
     "execution_count": 156,
     "metadata": {},
     "output_type": "execute_result"
    }
   ],
   "source": [
    "r == naive"
   ]
  },
  {
   "cell_type": "code",
   "execution_count": 210,
   "metadata": {},
   "outputs": [],
   "source": [
    "def BMH (text, pattern, alphabet):    \n",
    "    n = len(text)\n",
    "    m = len(pattern)\n",
    "    text = list(text)\n",
    "    pattern = list(pattern)\n",
    "    incl=[]\n",
    "    d=len(alphabet)\n",
    "    operations=0\n",
    "    table = [m for i in range (d)]\n",
    "    \n",
    "    le = preprocessing.LabelEncoder()\n",
    "    le.fit(alphabet)\n",
    "    pattern = le.transform(pattern)\n",
    "    text = le.transform(text)\n",
    "   \n",
    "    for i in range(m-1):\n",
    "        operations+=1\n",
    "        table[pattern[i]] = m-1-i #количество безопасно пропускаемых символов\n",
    "\n",
    "    skip = 0\n",
    "    while (n - skip >= m):\n",
    "        i = m - 1 `\n",
    "        while (text[skip+i] == pattern[i]):\n",
    "            operations+=1\n",
    "            if (i==0):\n",
    "               \n",
    "                incl.append(skip)\n",
    "                break;\n",
    "            i-=1\n",
    "        skip = skip + table[text[skip+m-1]]\n",
    "    return incl, operations"
   ]
  },
  {
   "cell_type": "code",
   "execution_count": 63,
   "metadata": {},
   "outputs": [],
   "source": [
    "def KMP(text, pattern, alphabet):\n",
    "    n = len(text)\n",
    "    m = len(pattern)\n",
    "    large_text = pattern +'$' + text\n",
    "\n",
    "    \n",
    "    incl=[]\n",
    "    d=len(alphabet)\n",
    "    operations=0\n",
    "    table = [m for i in range (d)]\n",
    "    \n",
    "#prefix fun    \n",
    "    prefix = [0]*(m+n+1)\n",
    "    k = 0\n",
    "    for i in range(1,m+n+1):\n",
    "        k = prefix[i-1]\n",
    "        operations+=1\n",
    "        while ((k>0) and (large_text[k]!=large_text[i])):\n",
    "            k=prefix[k-1]\n",
    "        operations+=1\n",
    "        if (large_text[k]==large_text[i]):\n",
    "            k+=1\n",
    "        prefix[i]=k\n",
    "\n",
    "    for i in range(m+1, m+n+1):\n",
    "        if (prefix[i] == m):\n",
    "            operations+=1\n",
    "            incl.append(i-2*m)\n",
    "    return (incl, operations)"
   ]
  },
  {
   "cell_type": "code",
   "execution_count": 72,
   "metadata": {},
   "outputs": [
    {
     "data": {
      "text/plain": [
       "([2, 3, 4, 5, 6], 29)"
      ]
     },
     "execution_count": 72,
     "metadata": {},
     "output_type": "execute_result"
    }
   ],
   "source": [
    "KMP('abaaaaaabc', 'aa', alphabet_sh)"
   ]
  },
  {
   "cell_type": "code",
   "execution_count": 65,
   "metadata": {},
   "outputs": [
    {
     "data": {
      "text/plain": [
       "array([0, 1, 2, 0, 1, 2])"
      ]
     },
     "execution_count": 65,
     "metadata": {},
     "output_type": "execute_result"
    }
   ],
   "source": [
    "text"
   ]
  },
  {
   "cell_type": "code",
   "execution_count": 217,
   "metadata": {},
   "outputs": [
    {
     "data": {
      "text/plain": [
       "([0, 3], 4)"
      ]
     },
     "execution_count": 217,
     "metadata": {},
     "output_type": "execute_result"
    }
   ],
   "source": [
    "BMH(text, pat, alphabet_sh)"
   ]
  },
  {
   "cell_type": "code",
   "execution_count": 177,
   "metadata": {},
   "outputs": [],
   "source": [
    "def textset_generator(alpha, n): #датасет из тысячи текстов длины п\n",
    "    set = []\n",
    "    for i in range (1000):\n",
    "        set.append(text_generator(alpha, n))\n",
    "    return set"
   ]
  },
  {
   "cell_type": "code",
   "execution_count": 197,
   "metadata": {},
   "outputs": [],
   "source": [
    "def info_computing(algorythm, set, pattern, alphabet):\n",
    "    aver=max=0\n",
    "    n = np.shape(set)[0]\n",
    "    min = n**2\n",
    "    for text in set:\n",
    "        value = algorythm(text, pattern, alphabet)[1]\n",
    "        aver+=value\n",
    "        if (value>max):\n",
    "            max=value\n",
    "        if (value<min):\n",
    "            min=value\n",
    "    aver = aver / n\n",
    "    return max, aver, min\n",
    "        "
   ]
  },
  {
   "cell_type": "markdown",
   "metadata": {},
   "source": [
    "Весь анализ пока только в таком виде, графики доделаем"
   ]
  },
  {
   "cell_type": "code",
   "execution_count": 196,
   "metadata": {},
   "outputs": [
    {
     "name": "stdout",
     "output_type": "stream",
     "text": [
      "(16, 10.409, 8)\n",
      "(145, 128.63, 113)\n",
      "(1357, 1310.321, 1251)\n",
      "(13277, 13122.419, 12954)\n"
     ]
    }
   ],
   "source": [
    "for i in [10,100,1000,10000]:\n",
    "    print(info_computing(Naive, textset_generator(alphabet_sh,i), pat, alphabet_sh))"
   ]
  },
  {
   "cell_type": "code",
   "execution_count": 198,
   "metadata": {},
   "outputs": [
    {
     "name": "stdout",
     "output_type": "stream",
     "text": [
      "(22, 16.36, 16)\n",
      "(217, 200.671, 196)\n",
      "(2077, 2042.08, 2011)\n",
      "(20596, 20464.291, 20359)\n"
     ]
    }
   ],
   "source": [
    "for i in [10,100,1000,10000]:\n",
    "    print(info_computing(RK, textset_generator(alphabet_sh,i), pat, alphabet_sh))"
   ]
  },
  {
   "cell_type": "code",
   "execution_count": 218,
   "metadata": {},
   "outputs": [
    {
     "name": "stdout",
     "output_type": "stream",
     "text": [
      "(5, 2.122, 2)\n",
      "(9, 3.512, 2)\n",
      "(33, 17.643, 7)\n",
      "(195, 158.712, 118)\n"
     ]
    }
   ],
   "source": [
    "for i in [10,100,1000,10000]:\n",
    "    print(info_computing(BMH, textset_generator(alphabet_sh,i), pat, alphabet_sh))"
   ]
  },
  {
   "cell_type": "markdown",
   "metadata": {},
   "source": [
    "Вопрос: совершенно разные порядки количества операций, это нужно исправлять?"
   ]
  },
  {
   "cell_type": "code",
   "execution_count": null,
   "metadata": {},
   "outputs": [],
   "source": []
  }
 ],
 "metadata": {
  "kernelspec": {
   "display_name": "Python 3",
   "language": "python",
   "name": "python3"
  },
  "language_info": {
   "codemirror_mode": {
    "name": "ipython",
    "version": 3
   },
   "file_extension": ".py",
   "mimetype": "text/x-python",
   "name": "python",
   "nbconvert_exporter": "python",
   "pygments_lexer": "ipython3",
   "version": "3.7.1"
  }
 },
 "nbformat": 4,
 "nbformat_minor": 2
}
